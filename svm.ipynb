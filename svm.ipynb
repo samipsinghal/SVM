{
 "cells": [
  {
   "cell_type": "code",
   "execution_count": 49,
   "metadata": {},
   "outputs": [],
   "source": [
    "import numpy as np\n",
    "import pandas as pd\n",
    "\n",
    "import seaborn as sns\n",
    "\n",
    "features = ['duration','protocol_type','service','flag','src_bytes','dst_bytes','land','wrong_fragment','urgent',\n",
    "'hot','num_failed_logins','logged_in','num_compromised','root_shell','su_attempted','num_root','num_file_creations',\n",
    "'num_shells','num_access_files','num_outbound_cmds','is_host_login','is_guest_login','count','srv_count',\n",
    "'serror_rate','srv_serror_rate','rerror_rate','srv_rerror_rate','same_srv_rate','diff_srv_rate','srv_diff_host_rate',\n",
    "'dst_host_count','dst_host_srv_count','dst_host_same_srv_rate','dst_host_diff_srv_rate','dst_host_same_src_port_rate',\n",
    "'dst_host_srv_diff_host_rate','dst_host_serror_rate','dst_host_srv_serror_rate','dst_host_rerror_rate','dst_host_srv_rerror_rate',\n",
    "'label']\n",
    "\n",
    "#intrusion_type = ['back','buffer_overflow','ftp_write',\n",
    " #'guess_passwd','imap,ipsweep','land,loadmodule',\n",
    " #'multihop,neptune','nmap,normal','perl',\n",
    " #'phf','pod','portsweep','rootkit',\n",
    " #'satan','smurf','spy','teardrop',\n",
    " #'warezclient','warezmaster']"
   ]
  },
  {
   "cell_type": "code",
   "execution_count": 50,
   "metadata": {},
   "outputs": [],
   "source": [
    "data = pd.read_csv('kddcup.data_10_percent', names = features, header=None)\n",
    "data.drop(data.loc[data['label']=='normal.'].index, inplace=True)\n",
    "\n"
   ]
  },
  {
   "cell_type": "markdown",
   "metadata": {},
   "source": [
    "## Converting the label non-dos/dos to 0 and 1"
   ]
  },
  {
   "cell_type": "code",
   "execution_count": 51,
   "metadata": {},
   "outputs": [],
   "source": [
    "l_dos = ['back.','land.','neptune.','pod.','smurf.','teardrop.']\n",
    "\n",
    "l_ndos = ['buffer_overflow','ftp_write','guess_passwd','imap','ipsweep','loadmodule','multihop','nmap','perl','phf',\n",
    "          'portsweep','rootkit','satan','spy','warezclient','warezmaster']\n",
    "\n",
    "\n",
    "#2 if normal , 0 if non-dos , 1 if dos\n",
    "\n",
    "\n",
    "data['label'] = data['label'].apply(lambda x: 2 if x == 'normal.' else (1 if (x in l_dos ) else 0))\n",
    "\n",
    "\n",
    "\n",
    "#df_example = data[['duration', 'dst_host_rerror_rate', 'label']]\n",
    "#sns.scatterplot(data = data, x ='duration', y = 'dst_host_rerror_rate', hue = 'label')\n",
    "\n",
    "\n",
    "# Get unique labels : print(data['label'].unique())\n",
    "# Review the columns which might need integer encoding data.dtypes"
   ]
  },
  {
   "cell_type": "code",
   "execution_count": 52,
   "metadata": {},
   "outputs": [],
   "source": [
    "from sklearn.model_selection import cross_val_score\n",
    "from sklearn import svm\n",
    "from sklearn.preprocessing import OneHotEncoder\n",
    "from sklearn.compose import make_column_transformer"
   ]
  },
  {
   "cell_type": "markdown",
   "metadata": {},
   "source": [
    "## One Hot Encoding the columns"
   ]
  },
  {
   "cell_type": "code",
   "execution_count": 53,
   "metadata": {},
   "outputs": [],
   "source": [
    "protocol_end = pd.get_dummies(data.protocol_type)\n",
    "service_end = pd.get_dummies(data.service)\n",
    "flag = pd.get_dummies(data.flag)\n",
    "\n"
   ]
  },
  {
   "cell_type": "code",
   "execution_count": 54,
   "metadata": {},
   "outputs": [],
   "source": [
    "data_encoded = pd.concat([data,protocol_end,service_end,flag],axis = 'columns')"
   ]
  },
  {
   "cell_type": "code",
   "execution_count": 55,
   "metadata": {},
   "outputs": [],
   "source": [
    "data_encoded_final = data_encoded.drop(['protocol_type','flag','service'],axis = 'columns')\n",
    "\n",
    "#data_encoded.drop('service',axis = 'columns')\n",
    "#data_encoded.drop('flag',axis = 'columns')\n",
    "\n"
   ]
  },
  {
   "cell_type": "markdown",
   "metadata": {},
   "source": [
    "## Undersampling the data to removed skewed classes"
   ]
  },
  {
   "cell_type": "code",
   "execution_count": 56,
   "metadata": {},
   "outputs": [
    {
     "data": {
      "image/png": "[encoded data removed]",
      "text/plain": [
       "<Figure size 432x288 with 1 Axes>"
      ]
     },
     "metadata": {
      "needs_background": "light"
     },
     "output_type": "display_data"
    }
   ],
   "source": [
    "ax = sns.countplot(x='label',data = data_encoded_final)\n"
   ]
  },
  {
   "cell_type": "code",
   "execution_count": 57,
   "metadata": {},
   "outputs": [
    {
     "data": {
      "text/plain": [
       "1    391458\n",
       "0      5285\n",
       "Name: label, dtype: int64"
      ]
     },
     "execution_count": 57,
     "metadata": {},
     "output_type": "execute_result"
    }
   ],
   "source": [
    "data_encoded_final['label'].value_counts()"
   ]
  },
  {
   "cell_type": "code",
   "execution_count": 58,
   "metadata": {},
   "outputs": [
    {
     "name": "stdout",
     "output_type": "stream",
     "text": [
      "5285\n"
     ]
    }
   ],
   "source": [
    "minority_class_len = len(data_encoded_final[data_encoded_final['label'] == 0])\n",
    "print(minority_class_len)"
   ]
  },
  {
   "cell_type": "code",
   "execution_count": 59,
   "metadata": {},
   "outputs": [
    {
     "name": "stdout",
     "output_type": "stream",
     "text": [
      "Int64Index([  7601,   7602,   7793,   7794,   7795,   7796,   7797,   7798,\n",
      "              7799,   7800,\n",
      "            ...\n",
      "            490955, 490956, 490957, 490958, 490959, 490960, 490961, 490962,\n",
      "            490963, 490964],\n",
      "           dtype='int64', length=391458)\n"
     ]
    }
   ],
   "source": [
    "majority_class_indices = data_encoded_final[data_encoded_final['label'] == 1].index\n",
    "print(majority_class_indices)"
   ]
  },
  {
   "cell_type": "code",
   "execution_count": 60,
   "metadata": {},
   "outputs": [
    {
     "name": "stdout",
     "output_type": "stream",
     "text": [
      "5285\n"
     ]
    }
   ],
   "source": [
    "random_majority_indices = np.random.choice(majority_class_indices,minority_class_len,replace='False')\n",
    "print(len(random_majority_indices))"
   ]
  },
  {
   "cell_type": "code",
   "execution_count": 61,
   "metadata": {},
   "outputs": [
    {
     "name": "stdout",
     "output_type": "stream",
     "text": [
      "Int64Index([   744,    745,   4049,   4113,  15699,  22750,  22751,  22752,\n",
      "             22753,  22754,\n",
      "            ...\n",
      "            485172, 485173, 485174, 485175, 485176, 485177, 485178, 485179,\n",
      "            485180, 485181],\n",
      "           dtype='int64', length=5285)\n"
     ]
    }
   ],
   "source": [
    "minority_class_indices = data_encoded_final[data_encoded_final['label'] == 0].index\n",
    "print(minority_class_indices)\n"
   ]
  },
  {
   "cell_type": "code",
   "execution_count": 62,
   "metadata": {},
   "outputs": [],
   "source": [
    "under_sample_indices = np.concatenate([minority_class_indices,random_majority_indices])"
   ]
  },
  {
   "cell_type": "code",
   "execution_count": 63,
   "metadata": {},
   "outputs": [],
   "source": [
    "under_sample = data_encoded_final.loc[under_sample_indices]"
   ]
  },
  {
   "cell_type": "code",
   "execution_count": 64,
   "metadata": {},
   "outputs": [
    {
     "data": {
      "text/plain": [
       "<matplotlib.axes._subplots.AxesSubplot at 0x7fecbc783c90>"
      ]
     },
     "execution_count": 64,
     "metadata": {},
     "output_type": "execute_result"
    },
    {
     "data": {
      "image/png": "[encoded data removed]",
      "text/plain": [
       "<Figure size 432x288 with 1 Axes>"
      ]
     },
     "metadata": {
      "needs_background": "light"
     },
     "output_type": "display_data"
    }
   ],
   "source": [
    "under_sample['label'].value_counts\n",
    "sns.countplot(x='label',data = under_sample)"
   ]
  },
  {
   "cell_type": "markdown",
   "metadata": {},
   "source": [
    "## X and y being created"
   ]
  },
  {
   "cell_type": "code",
   "execution_count": 65,
   "metadata": {},
   "outputs": [],
   "source": [
    "X = under_sample.drop('label',axis = 'columns')\n",
    "y =  under_sample.label\n",
    "\n",
    "# validate if X and y have same rows # y.shape"
   ]
  },
  {
   "cell_type": "markdown",
   "metadata": {},
   "source": [
    "## Test and Training Split and Scaling the data"
   ]
  },
  {
   "cell_type": "code",
   "execution_count": 66,
   "metadata": {},
   "outputs": [
    {
     "name": "stdout",
     "output_type": "stream",
     "text": [
      "Labels count in y: [5285 5285]\n",
      "Labels count in y_train: [2643 2642]\n",
      "Labels count in y_test: [2642 2643]\n"
     ]
    }
   ],
   "source": [
    "from sklearn.model_selection import train_test_split\n",
    "from sklearn.preprocessing import StandardScaler\n",
    "\n",
    "\n",
    "X_train, X_test, y_train, y_test = train_test_split(X, y, test_size=0.5, random_state=1, stratify=y)\n",
    "\n",
    "\n",
    "sc = StandardScaler()\n",
    "sc.fit(X_train)\n",
    "\n",
    "X_train_std = sc.transform(X_train)\n",
    "X_test_std = sc.transform(X_test)\n",
    "\n",
    "print('Labels count in y:', np.bincount(y))\n",
    "print('Labels count in y_train:', np.bincount(y_train))\n",
    "\n",
    "print('Labels count in y_test:', np.bincount(y_test))\n"
   ]
  },
  {
   "cell_type": "markdown",
   "metadata": {},
   "source": [
    "# SVM Model Training Kernel "
   ]
  },
  {
   "cell_type": "code",
   "execution_count": 67,
   "metadata": {},
   "outputs": [],
   "source": [
    "from sklearn import svm\n",
    "import time\n",
    "\n",
    "#Create a svm Classifier\n",
    "\n",
    "clf_linear = svm.SVC(kernel='linear') # Linear Kernel\n",
    "clf_rbf =  svm.SVC(kernel='rbf') # Gaussian Radial Basis Function\n",
    "clf_sigmoid =  svm.SVC(kernel='sigmoid') # Sigmoid Kernel\n",
    "clf_poly =  svm.SVC(kernel='poly') # Polynomial Kernel"
   ]
  },
  {
   "cell_type": "markdown",
   "metadata": {},
   "source": [
    "## Linear Kernel , Predict Response , Model Report"
   ]
  },
  {
   "cell_type": "code",
   "execution_count": null,
   "metadata": {},
   "outputs": [],
   "source": [
    "#Train the model using the training sets\n",
    "\n",
    "start_linear = time.time()\n",
    "clf_linear.fit(X_train, y_train)\n",
    "stop_linear = time.time()"
   ]
  },
  {
   "cell_type": "markdown",
   "metadata": {},
   "source": [
    "##### LINEAR Model Report - Accuracy/Precision/Recall of the model   ||| Training and Test Error - #Predict the response for test dataset"
   ]
  },
  {
   "cell_type": "code",
   "execution_count": 70,
   "metadata": {},
   "outputs": [
    {
     "name": "stdout",
     "output_type": "stream",
     "text": [
      "Training time: 407.96166467666626s\n",
      "Misclassified examples: 3\n",
      "Accuracy: 0.9994323557237464\n",
      "Precision: 0.9992435703479576\n",
      "Recall: 0.9996216420734014\n"
     ]
    }
   ],
   "source": [
    "#Import scikit-learn metrics module for accuracy calculation\n",
    "from sklearn import metrics\n",
    "\n",
    "print(f\"Training time: {stop_linear - start_linear}s\")\n",
    "\n",
    "y_pred_linear = clf_linear.predict(X_test)\n",
    "print('Misclassified examples: %d' % (y_test != y_pred_linear).sum())\n",
    "\n",
    "# Model Accuracy: how often is the classifier correct?\n",
    "print(\"Accuracy:\",metrics.accuracy_score(y_test, y_pred_linear))\n",
    "\n",
    "# Model Precision: what percentage of positive tuples are labeled as such?\n",
    "print(\"Precision:\",metrics.precision_score(y_test, y_pred_linear))\n",
    "\n",
    "# Model Recall: what percentage of positive tuples are labelled as such?\n",
    "print(\"Recall:\",metrics.recall_score(y_test, y_pred_linear))"
   ]
  },
  {
   "cell_type": "markdown",
   "metadata": {},
   "source": [
    "## Sigmoid Kernel , Predict Response , Model Report"
   ]
  },
  {
   "cell_type": "code",
   "execution_count": 71,
   "metadata": {},
   "outputs": [],
   "source": [
    "#Train the model using the training sets\n",
    "\n",
    "start_sigmoid = time.time()\n",
    "clf_sigmoid.fit(X_train_std, y_train)\n",
    "stop_sigmoid = time.time()"
   ]
  },
  {
   "cell_type": "markdown",
   "metadata": {},
   "source": [
    "##### SIGMOID Model Report - Accuracy/Precision/Recall of the model   ||| Training and Test Error - #Predict the response for test dataset"
   ]
  },
  {
   "cell_type": "code",
   "execution_count": 73,
   "metadata": {},
   "outputs": [
    {
     "name": "stdout",
     "output_type": "stream",
     "text": [
      "Training time: 0.08328700065612793s\n",
      "Misclassified examples: 26\n",
      "Accuracy: 0.9950804162724692\n",
      "Precision: 0.9932152280437241\n",
      "Recall: 0.9969731365872115\n"
     ]
    }
   ],
   "source": [
    "#Import scikit-learn metrics module for accuracy calculation\n",
    "from sklearn import metrics\n",
    "\n",
    "print(f\"Training time: {stop_sigmoid - start_sigmoid}s\")\n",
    "\n",
    "y_pred_sigmoid = clf_sigmoid.predict(X_test_std)\n",
    "print('Misclassified examples: %d' % (y_test != y_pred_sigmoid).sum())\n",
    "\n",
    "# Model Accuracy: how often is the classifier correct?\n",
    "print(\"Accuracy:\",metrics.accuracy_score(y_test, y_pred_sigmoid))\n",
    "\n",
    "# Model Precision: what percentage of positive tuples are labeled as such?\n",
    "print(\"Precision:\",metrics.precision_score(y_test, y_pred_sigmoid))\n",
    "\n",
    "# Model Recall: what percentage of positive tuples are labelled as such?\n",
    "print(\"Recall:\",metrics.recall_score(y_test, y_pred_sigmoid))"
   ]
  },
  {
   "cell_type": "markdown",
   "metadata": {},
   "source": [
    "## RBF Kernel , Predict Response , Model Report"
   ]
  },
  {
   "cell_type": "code",
   "execution_count": 74,
   "metadata": {},
   "outputs": [],
   "source": [
    "#Train the model using the training sets\n",
    "\n",
    "start_rbf = time.time()\n",
    "clf_rbf.fit(X_train_std, y_train)\n",
    "stop_rbf = time.time()"
   ]
  },
  {
   "cell_type": "markdown",
   "metadata": {},
   "source": [
    "##### RBF Model Report - Accuracy/Precision/Recall of the model   ||| Training and Test Error - #Predict the response for test dataset"
   ]
  },
  {
   "cell_type": "code",
   "execution_count": 75,
   "metadata": {},
   "outputs": [
    {
     "name": "stdout",
     "output_type": "stream",
     "text": [
      "Training time: 0.1047811508178711s\n",
      "Misclassified examples: 26\n",
      "Accuracy: 0.9950804162724692\n",
      "Precision: 0.9954562665656949\n",
      "Recall: 0.9947029890276201\n"
     ]
    }
   ],
   "source": [
    "print(f\"Training time: {stop_rbf - start_rbf}s\")\n",
    "\n",
    "y_pred_rbf = clf_rbf.predict(X_test_std)\n",
    "\n",
    "print('Misclassified examples: %d' % (y_test != y_pred_rbf).sum())\n",
    "\n",
    "# Model Accuracy: how often is the classifier correct?\n",
    "print(\"Accuracy:\",metrics.accuracy_score(y_test, y_pred_rbf))\n",
    "\n",
    "# Model Precision: what percentage of positive tuples are labeled as such?\n",
    "print(\"Precision:\",metrics.precision_score(y_test, y_pred_rbf))\n",
    "\n",
    "# Model Recall: what percentage of positive tuples are labelled as such?\n",
    "print(\"Recall:\",metrics.recall_score(y_test, y_pred_rbf))"
   ]
  },
  {
   "cell_type": "markdown",
   "metadata": {},
   "source": [
    "## Poly Kernel , Predict Response , Model Report"
   ]
  },
  {
   "cell_type": "code",
   "execution_count": 76,
   "metadata": {},
   "outputs": [],
   "source": [
    "#Train the model using the training sets\n",
    "\n",
    "start_poly = time.time()\n",
    "clf_poly.fit(X_train_std, y_train)\n",
    "stop_poly = time.time()"
   ]
  },
  {
   "cell_type": "markdown",
   "metadata": {},
   "source": [
    "#####  POLY Model Report - Accuracy/Precision/Recall of the model   ||| Training and Test Error - #Predict the response for test dataset"
   ]
  },
  {
   "cell_type": "code",
   "execution_count": 77,
   "metadata": {},
   "outputs": [
    {
     "name": "stdout",
     "output_type": "stream",
     "text": [
      "Training time: 0.19844794273376465s\n",
      "Misclassified examples: 33\n",
      "Accuracy: 0.993755912961211\n",
      "Precision: 0.9894973743435859\n",
      "Recall: 0.9981082103670071\n"
     ]
    }
   ],
   "source": [
    "print(f\"Training time: {stop_poly - start_poly}s\")\n",
    "\n",
    "y_pred_poly = clf_poly.predict(X_test_std)\n",
    "print('Misclassified examples: %d' % (y_test != y_pred_poly).sum())\n",
    "\n",
    "# Model Accuracy: how often is the classifier correct?\n",
    "print(\"Accuracy:\",metrics.accuracy_score(y_test, y_pred_poly))\n",
    "\n",
    "# Model Precision: what percentage of positive tuples are labeled as such?\n",
    "print(\"Precision:\",metrics.precision_score(y_test, y_pred_poly))\n",
    "\n",
    "# Model Recall: what percentage of positive tuples are labelled as such?\n",
    "print(\"Recall:\",metrics.recall_score(y_test, y_pred_poly))"
   ]
  },
  {
   "cell_type": "markdown",
   "metadata": {},
   "source": [
    "#### Pros and Cons of Kernel"
   ]
  },
  {
   "cell_type": "markdown",
   "metadata": {},
   "source": [
    "Linear SVM is a parametric model, an RBF kernel SVM isn't, and the complexity of the RBF grows with the size of the training set. \n",
    "\n",
    "Not only is it more expensive to train an RBF kernel SVM, but we also have to keep the kernel matrix around, and the projection into this \"infinite\" higher dimensional space where the data becomes linearly separable is more expensive as well during prediction. \n",
    "\n",
    "Furthermore, 23 have more hyperparameters to tune, so model selection is more expensive as well in RBF! And finally, it's much easier to overfit a complex model for RBF!\n",
    "\n",
    "\n",
    "Poly is less useful for efficiency (computational as well as predictive) performance reasons. "
   ]
  },
  {
   "cell_type": "markdown",
   "metadata": {},
   "source": [
    "# Two Feature Sample [under sample]"
   ]
  },
  {
   "cell_type": "code",
   "execution_count": 16,
   "metadata": {},
   "outputs": [
    {
     "data": {
      "text/html": [
       "<div>\n",
       "<style scoped>\n",
       "    .dataframe tbody tr th:only-of-type {\n",
       "        vertical-align: middle;\n",
       "    }\n",
       "\n",
       "    .dataframe tbody tr th {\n",
       "        vertical-align: top;\n",
       "    }\n",
       "\n",
       "    .dataframe thead th {\n",
       "        text-align: right;\n",
       "    }\n",
       "</style>\n",
       "<table border=\"1\" class=\"dataframe\">\n",
       "  <thead>\n",
       "    <tr style=\"text-align: right;\">\n",
       "      <th></th>\n",
       "      <th>num_failed_logins</th>\n",
       "      <th>dst_host_srv_count</th>\n",
       "      <th>label</th>\n",
       "    </tr>\n",
       "  </thead>\n",
       "  <tbody>\n",
       "    <tr>\n",
       "      <td>744</td>\n",
       "      <td>0</td>\n",
       "      <td>3</td>\n",
       "      <td>0</td>\n",
       "    </tr>\n",
       "    <tr>\n",
       "      <td>745</td>\n",
       "      <td>0</td>\n",
       "      <td>4</td>\n",
       "      <td>0</td>\n",
       "    </tr>\n",
       "    <tr>\n",
       "      <td>4049</td>\n",
       "      <td>0</td>\n",
       "      <td>10</td>\n",
       "      <td>0</td>\n",
       "    </tr>\n",
       "    <tr>\n",
       "      <td>4113</td>\n",
       "      <td>0</td>\n",
       "      <td>2</td>\n",
       "      <td>0</td>\n",
       "    </tr>\n",
       "    <tr>\n",
       "      <td>15699</td>\n",
       "      <td>5</td>\n",
       "      <td>2</td>\n",
       "      <td>0</td>\n",
       "    </tr>\n",
       "    <tr>\n",
       "      <td>22750</td>\n",
       "      <td>1</td>\n",
       "      <td>1</td>\n",
       "      <td>0</td>\n",
       "    </tr>\n",
       "    <tr>\n",
       "      <td>22751</td>\n",
       "      <td>1</td>\n",
       "      <td>2</td>\n",
       "      <td>0</td>\n",
       "    </tr>\n",
       "    <tr>\n",
       "      <td>22752</td>\n",
       "      <td>1</td>\n",
       "      <td>3</td>\n",
       "      <td>0</td>\n",
       "    </tr>\n",
       "    <tr>\n",
       "      <td>22753</td>\n",
       "      <td>1</td>\n",
       "      <td>4</td>\n",
       "      <td>0</td>\n",
       "    </tr>\n",
       "    <tr>\n",
       "      <td>22754</td>\n",
       "      <td>1</td>\n",
       "      <td>5</td>\n",
       "      <td>0</td>\n",
       "    </tr>\n",
       "  </tbody>\n",
       "</table>\n",
       "</div>"
      ],
      "text/plain": [
       "       num_failed_logins  dst_host_srv_count  label\n",
       "744                    0                   3      0\n",
       "745                    0                   4      0\n",
       "4049                   0                  10      0\n",
       "4113                   0                   2      0\n",
       "15699                  5                   2      0\n",
       "22750                  1                   1      0\n",
       "22751                  1                   2      0\n",
       "22752                  1                   3      0\n",
       "22753                  1                   4      0\n",
       "22754                  1                   5      0"
      ]
     },
     "execution_count": 16,
     "metadata": {},
     "output_type": "execute_result"
    }
   ],
   "source": [
    "\n",
    "under_sample_2F = under_sample[['num_failed_logins', 'dst_host_srv_count' ,'label']]\n",
    "under_sample_2F.head(10)\n",
    "\n",
    "#num_failed_logins\n",
    "\n",
    "#dst_host_srv_count"
   ]
  },
  {
   "cell_type": "code",
   "execution_count": 17,
   "metadata": {},
   "outputs": [
    {
     "data": {
      "text/plain": [
       "<matplotlib.axes._subplots.AxesSubplot at 0x7fec8c52bf50>"
      ]
     },
     "execution_count": 17,
     "metadata": {},
     "output_type": "execute_result"
    },
    {
     "data": {
      "image/png": "[encoded data removed]",
      "text/plain": [
       "<Figure size 432x288 with 1 Axes>"
      ]
     },
     "metadata": {
      "needs_background": "light"
     },
     "output_type": "display_data"
    }
   ],
   "source": [
    "under_sample_2F['label'].value_counts\n",
    "sns.countplot(x='label',data = under_sample_2F)"
   ]
  },
  {
   "cell_type": "code",
   "execution_count": 21,
   "metadata": {},
   "outputs": [],
   "source": [
    "X_2F = under_sample_2F.drop('label',axis = 'columns')\n",
    "y_2F =  under_sample_2F.label\n",
    "\n",
    "# validate if X and y have same rows # y.shape"
   ]
  },
  {
   "cell_type": "markdown",
   "metadata": {},
   "source": [
    "#### Two feature train-test split"
   ]
  },
  {
   "cell_type": "code",
   "execution_count": 23,
   "metadata": {},
   "outputs": [
    {
     "name": "stdout",
     "output_type": "stream",
     "text": [
      "Labels count in y: [5285 5285]\n",
      "Labels count in y_train: [4228 4228]\n",
      "Labels count in y_test: [1057 1057]\n"
     ]
    }
   ],
   "source": [
    "from sklearn.model_selection import train_test_split\n",
    "from sklearn.preprocessing import StandardScaler\n",
    "\n",
    "\n",
    "X_train_2F, X_test_2F, y_train_2F, y_test_2F = train_test_split(X_2F, y_2F, test_size=0.2, random_state=1, stratify=y_2F)\n",
    "\n",
    "sc = StandardScaler()\n",
    "sc.fit(X_train_2F)\n",
    "\n",
    "X_train_std_2F = sc.transform(X_train_2F)\n",
    "X_test_std_2F = sc.transform(X_test_2F)\n",
    "\n",
    "print('Labels count in y:', np.bincount(y_2F))\n",
    "print('Labels count in y_train:', np.bincount(y_train_2F))\n",
    "\n",
    "print('Labels count in y_test:', np.bincount(y_test_2F))"
   ]
  },
  {
   "cell_type": "code",
   "execution_count": 24,
   "metadata": {},
   "outputs": [],
   "source": [
    "clf_linear_2F = svm.SVC(kernel='linear') # Linear Kernel\n",
    "clf_rbf_2F =  svm.SVC(kernel='rbf') # Gaussian Radial Basis Function"
   ]
  },
  {
   "cell_type": "code",
   "execution_count": 26,
   "metadata": {},
   "outputs": [],
   "source": [
    "#Train the model using the training sets\n",
    "\n",
    "import time\n",
    "\n",
    "start_linear_2F = time.time()\n",
    "clf_linear_2F.fit(X_train_std_2F, y_train_2F)\n",
    "stop_linear_2F = time.time()\n",
    "\n",
    "\n",
    "start_rbf_2F = time.time()\n",
    "clf_rbf_2F.fit(X_train_std_2F, y_train_2F)\n",
    "stop_rbf_2F = time.time()"
   ]
  },
  {
   "cell_type": "markdown",
   "metadata": {},
   "source": [
    "### Model Report using 2 features."
   ]
  },
  {
   "cell_type": "code",
   "execution_count": 28,
   "metadata": {},
   "outputs": [
    {
     "name": "stdout",
     "output_type": "stream",
     "text": [
      "Training time_2F: 1.6372449398040771s\n",
      "Misclassified examples_2F: 1057\n"
     ]
    },
    {
     "name": "stderr",
     "output_type": "stream",
     "text": [
      "/Users/samipsinghal/opt/anaconda3/lib/python3.7/site-packages/sklearn/base.py:435: UserWarning: X has feature names, but SVC was fitted without feature names\n",
      "  f\"X has feature names, but {self.__class__.__name__} was fitted without\"\n"
     ]
    },
    {
     "name": "stdout",
     "output_type": "stream",
     "text": [
      "Accuracy_2F: 0.5\n",
      "Precision_2F: 0.5\n",
      "Recall_2F: 1.0\n"
     ]
    }
   ],
   "source": [
    "from sklearn import metrics\n",
    "\n",
    "print(f\"Training time_2F: {stop_linear_2F - start_linear_2F}s\")\n",
    "\n",
    "y_pred_linear_2F = clf_linear_2F.predict(X_test_2F)\n",
    "print('Misclassified examples_2F: %d' % (y_test_2F != y_pred_linear_2F).sum())\n",
    "\n",
    "# Model Accuracy: how often is the classifier correct?\n",
    "print(\"Accuracy_2F:\",metrics.accuracy_score(y_test_2F, y_pred_linear_2F))\n",
    "\n",
    "# Model Precision: what percentage of positive tuples are labeled as such?\n",
    "print(\"Precision_2F:\",metrics.precision_score(y_test_2F, y_pred_linear_2F))\n",
    "\n",
    "# Model Recall: what percentage of positive tuples are labelled as such?\n",
    "print(\"Recall_2F:\",metrics.recall_score(y_test_2F, y_pred_linear_2F))"
   ]
  },
  {
   "cell_type": "code",
   "execution_count": 29,
   "metadata": {},
   "outputs": [
    {
     "name": "stdout",
     "output_type": "stream",
     "text": [
      "Training time_2F: 1.1396150588989258s\n"
     ]
    },
    {
     "name": "stderr",
     "output_type": "stream",
     "text": [
      "/Users/samipsinghal/opt/anaconda3/lib/python3.7/site-packages/sklearn/base.py:435: UserWarning: X has feature names, but SVC was fitted without feature names\n",
      "  f\"X has feature names, but {self.__class__.__name__} was fitted without\"\n"
     ]
    },
    {
     "name": "stdout",
     "output_type": "stream",
     "text": [
      "Misclassified examples_2F: 1573\n",
      "Accuracy_2F: 0.25591296121097445\n",
      "Precision_2F: 0.07142857142857142\n",
      "Recall_2F: 0.04068117313150426\n"
     ]
    }
   ],
   "source": [
    "print(f\"Training time_2F: {stop_rbf_2F - start_rbf_2F}s\")\n",
    "\n",
    "y_pred_rbf_2F = clf_rbf_2F.predict(X_test_2F)\n",
    "print('Misclassified examples_2F: %d' % (y_test_2F != y_pred_rbf_2F).sum())\n",
    "\n",
    "# Model Accuracy: how often is the classifier correct?\n",
    "print(\"Accuracy_2F:\",metrics.accuracy_score(y_test_2F, y_pred_rbf_2F))\n",
    "\n",
    "# Model Precision: what percentage of positive tuples are labeled as such?\n",
    "print(\"Precision_2F:\",metrics.precision_score(y_test_2F, y_pred_rbf_2F))\n",
    "\n",
    "# Model Recall: what percentage of positive tuples are labelled as such?\n",
    "print(\"Recall_2F:\",metrics.recall_score(y_test_2F, y_pred_rbf_2F))"
   ]
  },
  {
   "cell_type": "markdown",
   "metadata": {},
   "source": [
    "## Plotting the decision boundry for two feature."
   ]
  },
  {
   "cell_type": "code",
   "execution_count": 48,
   "metadata": {},
   "outputs": [
    {
     "name": "stdout",
     "output_type": "stream",
     "text": [
      "Automatically created module for IPython interactive environment\n"
     ]
    },
    {
     "name": "stderr",
     "output_type": "stream",
     "text": [
      "/Users/samipsinghal/opt/anaconda3/lib/python3.7/site-packages/sklearn/base.py:442: UserWarning: X does not have valid feature names, but SVC was fitted with feature names\n",
      "  \"X does not have valid feature names, but\"\n",
      "/Users/samipsinghal/opt/anaconda3/lib/python3.7/site-packages/sklearn/base.py:442: UserWarning: X does not have valid feature names, but SVC was fitted with feature names\n",
      "  \"X does not have valid feature names, but\"\n"
     ]
    },
    {
     "data": {
      "image/png": "[encoded data removed]",
      "text/plain": [
       "<Figure size 432x288 with 2 Axes>"
      ]
     },
     "metadata": {},
     "output_type": "display_data"
    }
   ],
   "source": [
    "print(__doc__)\n",
    "\n",
    "import numpy as np\n",
    "import matplotlib.pyplot as plt\n",
    "from sklearn import svm, datasets\n",
    "\n",
    "# import some data to play with\n",
    "\n",
    "X =  X_2F  # we only take the first two features. We could\n",
    "                      # avoid this ugly slicing by using a two-dim dataset\n",
    "y =  y_2F\n",
    "\n",
    "h = .02  # step size in the mesh\n",
    "\n",
    "# we create an instance of SVM and fit out data. We do not scale our\n",
    "# data since we want to plot the support vectors\n",
    "\n",
    "C = 1.0  # SVM regularization parameter\n",
    "\n",
    "svc = svm.SVC(kernel='linear', C=C).fit(X, y)\n",
    "rbf_svc = svm.SVC(kernel='rbf', gamma=0.7, C=C).fit(X, y)\n",
    "\n",
    "\n",
    "#rbf_svc = svm.SVC(kernel='rbf', gamma=0.7, C=C).fit(X, y)\n",
    "#poly_svc = svm.SVC(kernel='poly', degree=3, C=C).fit(X, y)\n",
    "#lin_svc = svm.LinearSVC(C=C).fit(X, y)\n",
    "\n",
    "# create a mesh to plot in\n",
    "\n",
    "x_min, x_max = X['num_failed_logins'].min() - 1, X['num_failed_logins'].max() + 1\n",
    "y_min, y_max = X['dst_host_srv_count'].min() - 1, X['dst_host_srv_count'].max() + 1\n",
    "xx, yy = np.meshgrid(np.arange(x_min, x_max, h),\n",
    "                     np.arange(y_min, y_max, h))\n",
    "\n",
    "# title for the plots\n",
    "titles = ['SVC with linear kernel',\n",
    "          'LinearSVC (linear kernel)',\n",
    "          'SVC with RBF kernel',\n",
    "          'SVC with polynomial (degree 3) kernel']\n",
    "\n",
    "\n",
    "for i, clf in enumerate((svc,rbf_svc)):\n",
    "    # Plot the decision boundary. For that, we will assign a color to each\n",
    "    # point in the mesh [x_min, x_max]x[y_min, y_max].\n",
    "    plt.subplot(2, 2, i + 1)\n",
    "    plt.subplots_adjust(wspace=0.4, hspace=0.4)\n",
    "\n",
    "    Z = clf.predict(np.c_[xx.ravel(), yy.ravel()])\n",
    "\n",
    "    # Put the result into a color plot\n",
    "    Z = Z.reshape(xx.shape)\n",
    "    plt.contourf(xx, yy, Z, cmap=plt.cm.coolwarm, alpha=0.8)\n",
    "\n",
    "    # Plot also the training points\n",
    "    plt.scatter(X['num_failed_logins'], X['dst_host_srv_count'], c=y, cmap=plt.cm.coolwarm)\n",
    "    plt.xlabel('num_failed_logins')\n",
    "    plt.ylabel('dst_host_srv_count')\n",
    "    plt.xlim(xx.min(), xx.max())\n",
    "    plt.ylim(yy.min(), yy.max())\n",
    "    plt.xticks(())\n",
    "    plt.yticks(())\n",
    "    plt.title(titles[i])\n",
    "\n",
    "plt.show()"
   ]
  },
  {
   "cell_type": "code",
   "execution_count": null,
   "metadata": {},
   "outputs": [],
   "source": []
  }
 ],
 "metadata": {
  "kernelspec": {
   "display_name": "Python 3",
   "language": "python",
   "name": "python3"
  },
  "language_info": {
   "codemirror_mode": {
    "name": "ipython",
    "version": 3
   },
   "file_extension": ".py",
   "mimetype": "text/x-python",
   "name": "python",
   "nbconvert_exporter": "python",
   "pygments_lexer": "ipython3",
   "version": "3.7.4"
  }
 },
 "nbformat": 4,
 "nbformat_minor": 2
}
